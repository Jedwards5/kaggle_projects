{
 "cells": [
  {
   "cell_type": "code",
   "execution_count": 1,
   "id": "16a91576",
   "metadata": {
    "_cell_guid": "b1076dfc-b9ad-4769-8c92-a6c4dae69d19",
    "_uuid": "8f2839f25d086af736a60e9eeb907d3b93b6e0e5",
    "execution": {
     "iopub.execute_input": "2024-06-18T12:33:50.679626Z",
     "iopub.status.busy": "2024-06-18T12:33:50.678815Z",
     "iopub.status.idle": "2024-06-18T12:33:51.542885Z",
     "shell.execute_reply": "2024-06-18T12:33:51.541869Z"
    },
    "papermill": {
     "duration": 0.873626,
     "end_time": "2024-06-18T12:33:51.545595",
     "exception": false,
     "start_time": "2024-06-18T12:33:50.671969",
     "status": "completed"
    },
    "tags": []
   },
   "outputs": [
    {
     "name": "stdout",
     "output_type": "stream",
     "text": [
      "/kaggle/input/titanic/train.csv\n",
      "/kaggle/input/titanic/test.csv\n",
      "/kaggle/input/titanic/gender_submission.csv\n"
     ]
    }
   ],
   "source": [
    "# This Python 3 environment comes with many helpful analytics libraries installed\n",
    "# It is defined by the kaggle/python Docker image: https://github.com/kaggle/docker-python\n",
    "# For example, here's several helpful packages to load\n",
    "\n",
    "import numpy as np # linear algebra\n",
    "import pandas as pd # data processing, CSV file I/O (e.g. pd.read_csv)\n",
    "\n",
    "# Input data files are available in the read-only \"../input/\" directory\n",
    "# For example, running this (by clicking run or pressing Shift+Enter) will list all files under the input directory\n",
    "\n",
    "import os\n",
    "for dirname, _, filenames in os.walk('/kaggle/input'):\n",
    "    for filename in filenames:\n",
    "        print(os.path.join(dirname, filename))\n",
    "\n",
    "# You can write up to 20GB to the current directory (/kaggle/working/) that gets preserved as output when you create a version using \"Save & Run All\" \n",
    "# You can also write temporary files to /kaggle/temp/, but they won't be saved outside of the current session"
   ]
  },
  {
   "cell_type": "code",
   "execution_count": 2,
   "id": "a7d91e75",
   "metadata": {
    "execution": {
     "iopub.execute_input": "2024-06-18T12:33:51.556576Z",
     "iopub.status.busy": "2024-06-18T12:33:51.556102Z",
     "iopub.status.idle": "2024-06-18T12:33:51.588513Z",
     "shell.execute_reply": "2024-06-18T12:33:51.587648Z"
    },
    "papermill": {
     "duration": 0.040665,
     "end_time": "2024-06-18T12:33:51.591134",
     "exception": false,
     "start_time": "2024-06-18T12:33:51.550469",
     "status": "completed"
    },
    "tags": []
   },
   "outputs": [],
   "source": [
    "train_data = pd.read_csv('/kaggle/input/titanic/train.csv')\n",
    "test_data = pd.read_csv('/kaggle/input/titanic/test.csv')\n",
    "gender_submission_data = pd.read_csv('/kaggle/input/titanic/test.csv') "
   ]
  },
  {
   "cell_type": "code",
   "execution_count": 3,
   "id": "623dbd49",
   "metadata": {
    "execution": {
     "iopub.execute_input": "2024-06-18T12:33:51.601783Z",
     "iopub.status.busy": "2024-06-18T12:33:51.601428Z",
     "iopub.status.idle": "2024-06-18T12:33:51.629747Z",
     "shell.execute_reply": "2024-06-18T12:33:51.628644Z"
    },
    "papermill": {
     "duration": 0.036603,
     "end_time": "2024-06-18T12:33:51.632376",
     "exception": false,
     "start_time": "2024-06-18T12:33:51.595773",
     "status": "completed"
    },
    "tags": []
   },
   "outputs": [
    {
     "name": "stdout",
     "output_type": "stream",
     "text": [
      "<class 'pandas.core.frame.DataFrame'>\n",
      "RangeIndex: 891 entries, 0 to 890\n",
      "Data columns (total 12 columns):\n",
      " #   Column       Non-Null Count  Dtype  \n",
      "---  ------       --------------  -----  \n",
      " 0   PassengerId  891 non-null    int64  \n",
      " 1   Survived     891 non-null    int64  \n",
      " 2   Pclass       891 non-null    int64  \n",
      " 3   Name         891 non-null    object \n",
      " 4   Sex          891 non-null    object \n",
      " 5   Age          714 non-null    float64\n",
      " 6   SibSp        891 non-null    int64  \n",
      " 7   Parch        891 non-null    int64  \n",
      " 8   Ticket       891 non-null    object \n",
      " 9   Fare         891 non-null    float64\n",
      " 10  Cabin        204 non-null    object \n",
      " 11  Embarked     889 non-null    object \n",
      "dtypes: float64(2), int64(5), object(5)\n",
      "memory usage: 83.7+ KB\n"
     ]
    }
   ],
   "source": [
    "#train_data.head()\n",
    "train_data.info()\n",
    "\n",
    "# age/gender/marital status: Marital Status, Sex, Age, # fam members\n",
    "# socioeconomic: fare could be a proxy for all this, but Pclass, ticket, Cabin, Embarked location\n",
    "# unneccesary: ticket, name (outside of determining marital status)\n",
    "\n",
    "# Children referred to as Master if male, Miss if female but age&gender should be enough as a proxy\n",
    "# Age has 177 null values - enough to make me not want to use it, although it should be useful... how do"
   ]
  },
  {
   "cell_type": "code",
   "execution_count": 4,
   "id": "bc169236",
   "metadata": {
    "execution": {
     "iopub.execute_input": "2024-06-18T12:33:51.643839Z",
     "iopub.status.busy": "2024-06-18T12:33:51.643121Z",
     "iopub.status.idle": "2024-06-18T12:33:51.671194Z",
     "shell.execute_reply": "2024-06-18T12:33:51.670043Z"
    },
    "papermill": {
     "duration": 0.036703,
     "end_time": "2024-06-18T12:33:51.673763",
     "exception": false,
     "start_time": "2024-06-18T12:33:51.637060",
     "status": "completed"
    },
    "tags": []
   },
   "outputs": [
    {
     "data": {
      "text/html": [
       "<div>\n",
       "<style scoped>\n",
       "    .dataframe tbody tr th:only-of-type {\n",
       "        vertical-align: middle;\n",
       "    }\n",
       "\n",
       "    .dataframe tbody tr th {\n",
       "        vertical-align: top;\n",
       "    }\n",
       "\n",
       "    .dataframe thead th {\n",
       "        text-align: right;\n",
       "    }\n",
       "</style>\n",
       "<table border=\"1\" class=\"dataframe\">\n",
       "  <thead>\n",
       "    <tr style=\"text-align: right;\">\n",
       "      <th></th>\n",
       "      <th>PassengerId</th>\n",
       "      <th>Survived</th>\n",
       "      <th>Pclass</th>\n",
       "      <th>Name</th>\n",
       "      <th>Sex</th>\n",
       "      <th>Age</th>\n",
       "      <th>SibSp</th>\n",
       "      <th>Parch</th>\n",
       "      <th>Ticket</th>\n",
       "      <th>Fare</th>\n",
       "      <th>Cabin</th>\n",
       "      <th>Embarked</th>\n",
       "      <th>married_female</th>\n",
       "    </tr>\n",
       "  </thead>\n",
       "  <tbody>\n",
       "    <tr>\n",
       "      <th>0</th>\n",
       "      <td>1</td>\n",
       "      <td>0</td>\n",
       "      <td>3</td>\n",
       "      <td>Braund, Mr. Owen Harris</td>\n",
       "      <td>male</td>\n",
       "      <td>22.0</td>\n",
       "      <td>1</td>\n",
       "      <td>0</td>\n",
       "      <td>A/5 21171</td>\n",
       "      <td>7.2500</td>\n",
       "      <td>NaN</td>\n",
       "      <td>S</td>\n",
       "      <td>0</td>\n",
       "    </tr>\n",
       "    <tr>\n",
       "      <th>1</th>\n",
       "      <td>2</td>\n",
       "      <td>1</td>\n",
       "      <td>1</td>\n",
       "      <td>Cumings, Mrs. John Bradley (Florence Briggs Th...</td>\n",
       "      <td>female</td>\n",
       "      <td>38.0</td>\n",
       "      <td>1</td>\n",
       "      <td>0</td>\n",
       "      <td>PC 17599</td>\n",
       "      <td>71.2833</td>\n",
       "      <td>C85</td>\n",
       "      <td>C</td>\n",
       "      <td>1</td>\n",
       "    </tr>\n",
       "    <tr>\n",
       "      <th>2</th>\n",
       "      <td>3</td>\n",
       "      <td>1</td>\n",
       "      <td>3</td>\n",
       "      <td>Heikkinen, Miss. Laina</td>\n",
       "      <td>female</td>\n",
       "      <td>26.0</td>\n",
       "      <td>0</td>\n",
       "      <td>0</td>\n",
       "      <td>STON/O2. 3101282</td>\n",
       "      <td>7.9250</td>\n",
       "      <td>NaN</td>\n",
       "      <td>S</td>\n",
       "      <td>0</td>\n",
       "    </tr>\n",
       "    <tr>\n",
       "      <th>3</th>\n",
       "      <td>4</td>\n",
       "      <td>1</td>\n",
       "      <td>1</td>\n",
       "      <td>Futrelle, Mrs. Jacques Heath (Lily May Peel)</td>\n",
       "      <td>female</td>\n",
       "      <td>35.0</td>\n",
       "      <td>1</td>\n",
       "      <td>0</td>\n",
       "      <td>113803</td>\n",
       "      <td>53.1000</td>\n",
       "      <td>C123</td>\n",
       "      <td>S</td>\n",
       "      <td>1</td>\n",
       "    </tr>\n",
       "    <tr>\n",
       "      <th>4</th>\n",
       "      <td>5</td>\n",
       "      <td>0</td>\n",
       "      <td>3</td>\n",
       "      <td>Allen, Mr. William Henry</td>\n",
       "      <td>male</td>\n",
       "      <td>35.0</td>\n",
       "      <td>0</td>\n",
       "      <td>0</td>\n",
       "      <td>373450</td>\n",
       "      <td>8.0500</td>\n",
       "      <td>NaN</td>\n",
       "      <td>S</td>\n",
       "      <td>0</td>\n",
       "    </tr>\n",
       "  </tbody>\n",
       "</table>\n",
       "</div>"
      ],
      "text/plain": [
       "   PassengerId  Survived  Pclass  \\\n",
       "0            1         0       3   \n",
       "1            2         1       1   \n",
       "2            3         1       3   \n",
       "3            4         1       1   \n",
       "4            5         0       3   \n",
       "\n",
       "                                                Name     Sex   Age  SibSp  \\\n",
       "0                            Braund, Mr. Owen Harris    male  22.0      1   \n",
       "1  Cumings, Mrs. John Bradley (Florence Briggs Th...  female  38.0      1   \n",
       "2                             Heikkinen, Miss. Laina  female  26.0      0   \n",
       "3       Futrelle, Mrs. Jacques Heath (Lily May Peel)  female  35.0      1   \n",
       "4                           Allen, Mr. William Henry    male  35.0      0   \n",
       "\n",
       "   Parch            Ticket     Fare Cabin Embarked  married_female  \n",
       "0      0         A/5 21171   7.2500   NaN        S               0  \n",
       "1      0          PC 17599  71.2833   C85        C               1  \n",
       "2      0  STON/O2. 3101282   7.9250   NaN        S               0  \n",
       "3      0            113803  53.1000  C123        S               1  \n",
       "4      0            373450   8.0500   NaN        S               0  "
      ]
     },
     "execution_count": 4,
     "metadata": {},
     "output_type": "execute_result"
    }
   ],
   "source": [
    "train_data['married_female'] = np.where((train_data.Name.str.find(')') > 0) & (train_data.Sex == 'female'), 1, 0)\n",
    "train_data.married_female.astype('bool')\n",
    "train_data.head(5)"
   ]
  },
  {
   "cell_type": "code",
   "execution_count": 5,
   "id": "10ad8a84",
   "metadata": {
    "execution": {
     "iopub.execute_input": "2024-06-18T12:33:51.685679Z",
     "iopub.status.busy": "2024-06-18T12:33:51.685316Z",
     "iopub.status.idle": "2024-06-18T12:33:51.695272Z",
     "shell.execute_reply": "2024-06-18T12:33:51.694217Z"
    },
    "papermill": {
     "duration": 0.018902,
     "end_time": "2024-06-18T12:33:51.697939",
     "exception": false,
     "start_time": "2024-06-18T12:33:51.679037",
     "status": "completed"
    },
    "tags": []
   },
   "outputs": [
    {
     "name": "stdout",
     "output_type": "stream",
     "text": [
      "0.2579617834394905\n"
     ]
    }
   ],
   "source": [
    "women = train_data.loc[train_data.Sex == 'female'][\"Survived\"]\n",
    "femaleMortalityRate = 1- (sum(women) / len(women))\n",
    "print(femaleMortalityRate)"
   ]
  },
  {
   "cell_type": "code",
   "execution_count": 6,
   "id": "0c4af5c9",
   "metadata": {
    "execution": {
     "iopub.execute_input": "2024-06-18T12:33:51.709998Z",
     "iopub.status.busy": "2024-06-18T12:33:51.709263Z",
     "iopub.status.idle": "2024-06-18T12:33:51.717109Z",
     "shell.execute_reply": "2024-06-18T12:33:51.715940Z"
    },
    "papermill": {
     "duration": 0.016401,
     "end_time": "2024-06-18T12:33:51.719434",
     "exception": false,
     "start_time": "2024-06-18T12:33:51.703033",
     "status": "completed"
    },
    "tags": []
   },
   "outputs": [
    {
     "name": "stdout",
     "output_type": "stream",
     "text": [
      "0.8110918544194108\n"
     ]
    }
   ],
   "source": [
    "men = train_data.loc[train_data.Sex == 'male'][\"Survived\"]\n",
    "maleMortalityRate = 1- (sum(men) / len(men))\n",
    "print(maleMortalityRate)"
   ]
  },
  {
   "cell_type": "code",
   "execution_count": 7,
   "id": "a8e4d97a",
   "metadata": {
    "execution": {
     "iopub.execute_input": "2024-06-18T12:33:51.731639Z",
     "iopub.status.busy": "2024-06-18T12:33:51.731242Z",
     "iopub.status.idle": "2024-06-18T12:33:53.353283Z",
     "shell.execute_reply": "2024-06-18T12:33:53.352365Z"
    },
    "papermill": {
     "duration": 1.631225,
     "end_time": "2024-06-18T12:33:53.355988",
     "exception": false,
     "start_time": "2024-06-18T12:33:51.724763",
     "status": "completed"
    },
    "tags": []
   },
   "outputs": [],
   "source": [
    "from sklearn.ensemble import RandomForestClassifier"
   ]
  },
  {
   "cell_type": "code",
   "execution_count": 8,
   "id": "f568e1b5",
   "metadata": {
    "execution": {
     "iopub.execute_input": "2024-06-18T12:33:53.368510Z",
     "iopub.status.busy": "2024-06-18T12:33:53.367643Z",
     "iopub.status.idle": "2024-06-18T12:33:53.381519Z",
     "shell.execute_reply": "2024-06-18T12:33:53.380355Z"
    },
    "papermill": {
     "duration": 0.022789,
     "end_time": "2024-06-18T12:33:53.384072",
     "exception": false,
     "start_time": "2024-06-18T12:33:53.361283",
     "status": "completed"
    },
    "tags": []
   },
   "outputs": [],
   "source": [
    "y = train_data[\"Survived\"]\n",
    "features = ['Pclass', 'Sex', 'SibSp', 'Parch']\n",
    "X = pd.get_dummies(train_data[features])\n",
    "X_Test = pd.get_dummies(test_data[features])"
   ]
  },
  {
   "cell_type": "code",
   "execution_count": 9,
   "id": "b4e9e8eb",
   "metadata": {
    "execution": {
     "iopub.execute_input": "2024-06-18T12:33:53.396741Z",
     "iopub.status.busy": "2024-06-18T12:33:53.395849Z",
     "iopub.status.idle": "2024-06-18T12:33:53.665889Z",
     "shell.execute_reply": "2024-06-18T12:33:53.664773Z"
    },
    "papermill": {
     "duration": 0.279269,
     "end_time": "2024-06-18T12:33:53.668603",
     "exception": false,
     "start_time": "2024-06-18T12:33:53.389334",
     "status": "completed"
    },
    "tags": []
   },
   "outputs": [],
   "source": [
    "model = RandomForestClassifier(n_estimators = 100, max_depth = 5, random_state = 1)\n",
    "model.fit(X,y)\n",
    "predictions = model.predict(X_Test)"
   ]
  },
  {
   "cell_type": "code",
   "execution_count": 10,
   "id": "d2c680a7",
   "metadata": {
    "execution": {
     "iopub.execute_input": "2024-06-18T12:33:53.680891Z",
     "iopub.status.busy": "2024-06-18T12:33:53.680481Z",
     "iopub.status.idle": "2024-06-18T12:33:53.691039Z",
     "shell.execute_reply": "2024-06-18T12:33:53.689762Z"
    },
    "papermill": {
     "duration": 0.019334,
     "end_time": "2024-06-18T12:33:53.693363",
     "exception": false,
     "start_time": "2024-06-18T12:33:53.674029",
     "status": "completed"
    },
    "tags": []
   },
   "outputs": [
    {
     "name": "stdout",
     "output_type": "stream",
     "text": [
      "Your submission was successfully saved!\n"
     ]
    }
   ],
   "source": [
    "output = pd.DataFrame({'PassengerId': test_data.PassengerId, 'Survived': predictions})\n",
    "output.to_csv('submission.csv', index = False)\n",
    "print(\"Your submission was successfully saved!\")"
   ]
  },
  {
   "cell_type": "code",
   "execution_count": null,
   "id": "a3564488",
   "metadata": {
    "papermill": {
     "duration": 0.00506,
     "end_time": "2024-06-18T12:33:53.703746",
     "exception": false,
     "start_time": "2024-06-18T12:33:53.698686",
     "status": "completed"
    },
    "tags": []
   },
   "outputs": [],
   "source": []
  }
 ],
 "metadata": {
  "kaggle": {
   "accelerator": "none",
   "dataSources": [
    {
     "databundleVersionId": 26502,
     "sourceId": 3136,
     "sourceType": "competition"
    }
   ],
   "dockerImageVersionId": 30646,
   "isGpuEnabled": false,
   "isInternetEnabled": false,
   "language": "python",
   "sourceType": "notebook"
  },
  "kernelspec": {
   "display_name": "Python 3",
   "language": "python",
   "name": "python3"
  },
  "language_info": {
   "codemirror_mode": {
    "name": "ipython",
    "version": 3
   },
   "file_extension": ".py",
   "mimetype": "text/x-python",
   "name": "python",
   "nbconvert_exporter": "python",
   "pygments_lexer": "ipython3",
   "version": "3.10.13"
  },
  "papermill": {
   "default_parameters": {},
   "duration": 6.680096,
   "end_time": "2024-06-18T12:33:54.331369",
   "environment_variables": {},
   "exception": null,
   "input_path": "__notebook__.ipynb",
   "output_path": "__notebook__.ipynb",
   "parameters": {},
   "start_time": "2024-06-18T12:33:47.651273",
   "version": "2.5.0"
  }
 },
 "nbformat": 4,
 "nbformat_minor": 5
}
