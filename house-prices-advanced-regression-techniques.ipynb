{
 "cells": [
  {
   "cell_type": "code",
   "execution_count": 1,
   "id": "bc163b50",
   "metadata": {
    "_cell_guid": "b1076dfc-b9ad-4769-8c92-a6c4dae69d19",
    "_uuid": "8f2839f25d086af736a60e9eeb907d3b93b6e0e5",
    "execution": {
     "iopub.execute_input": "2024-06-20T01:33:52.689022Z",
     "iopub.status.busy": "2024-06-20T01:33:52.688616Z",
     "iopub.status.idle": "2024-06-20T01:33:53.657583Z",
     "shell.execute_reply": "2024-06-20T01:33:53.656021Z"
    },
    "papermill": {
     "duration": 0.978037,
     "end_time": "2024-06-20T01:33:53.660964",
     "exception": false,
     "start_time": "2024-06-20T01:33:52.682927",
     "status": "completed"
    },
    "tags": []
   },
   "outputs": [
    {
     "name": "stdout",
     "output_type": "stream",
     "text": [
      "/kaggle/input/house-prices-advanced-regression-techniques/sample_submission.csv\n",
      "/kaggle/input/house-prices-advanced-regression-techniques/data_description.txt\n",
      "/kaggle/input/house-prices-advanced-regression-techniques/train.csv\n",
      "/kaggle/input/house-prices-advanced-regression-techniques/test.csv\n"
     ]
    }
   ],
   "source": [
    "# This Python 3 environment comes with many helpful analytics libraries installed\n",
    "# It is defined by the kaggle/python Docker image: https://github.com/kaggle/docker-python\n",
    "# For example, here's several helpful packages to load\n",
    "\n",
    "import numpy as np # linear algebra\n",
    "import pandas as pd # data processing, CSV file I/O (e.g. pd.read_csv)\n",
    "\n",
    "# Input data files are available in the read-only \"../input/\" directory\n",
    "# For example, running this (by clicking run or pressing Shift+Enter) will list all files under the input directory\n",
    "\n",
    "import os\n",
    "for dirname, _, filenames in os.walk('/kaggle/input'):\n",
    "    for filename in filenames:\n",
    "        print(os.path.join(dirname, filename))\n",
    "\n",
    "# You can write up to 20GB to the current directory (/kaggle/working/) that gets preserved as output when you create a version using \"Save & Run All\" \n",
    "# You can also write temporary files to /kaggle/temp/, but they won't be saved outside of the current session"
   ]
  },
  {
   "cell_type": "code",
   "execution_count": 2,
   "id": "9bbf1796",
   "metadata": {
    "execution": {
     "iopub.execute_input": "2024-06-20T01:33:53.670064Z",
     "iopub.status.busy": "2024-06-20T01:33:53.669536Z",
     "iopub.status.idle": "2024-06-20T01:34:08.200309Z",
     "shell.execute_reply": "2024-06-20T01:34:08.198585Z"
    },
    "papermill": {
     "duration": 14.545825,
     "end_time": "2024-06-20T01:34:08.210631",
     "exception": false,
     "start_time": "2024-06-20T01:33:53.664806",
     "status": "completed"
    },
    "tags": []
   },
   "outputs": [
    {
     "name": "stderr",
     "output_type": "stream",
     "text": [
      "2024-06-20 01:33:55.938696: E external/local_xla/xla/stream_executor/cuda/cuda_dnn.cc:9261] Unable to register cuDNN factory: Attempting to register factory for plugin cuDNN when one has already been registered\n",
      "2024-06-20 01:33:55.938846: E external/local_xla/xla/stream_executor/cuda/cuda_fft.cc:607] Unable to register cuFFT factory: Attempting to register factory for plugin cuFFT when one has already been registered\n",
      "2024-06-20 01:33:56.116166: E external/local_xla/xla/stream_executor/cuda/cuda_blas.cc:1515] Unable to register cuBLAS factory: Attempting to register factory for plugin cuBLAS when one has already been registered\n"
     ]
    }
   ],
   "source": [
    "import tensorflow as tf\n",
    "import pandas as pd\n",
    "import matplotlib.pyplot as plt"
   ]
  },
  {
   "cell_type": "code",
   "execution_count": 3,
   "id": "994e5da7",
   "metadata": {
    "execution": {
     "iopub.execute_input": "2024-06-20T01:34:08.236857Z",
     "iopub.status.busy": "2024-06-20T01:34:08.234974Z",
     "iopub.status.idle": "2024-06-20T01:34:08.244193Z",
     "shell.execute_reply": "2024-06-20T01:34:08.242537Z"
    },
    "papermill": {
     "duration": 0.020078,
     "end_time": "2024-06-20T01:34:08.247397",
     "exception": false,
     "start_time": "2024-06-20T01:34:08.227319",
     "status": "completed"
    },
    "tags": []
   },
   "outputs": [
    {
     "name": "stdout",
     "output_type": "stream",
     "text": [
      "TensorFlow v2.15.0\n",
      "Pandas v2.2.2\n"
     ]
    }
   ],
   "source": [
    "print(\"TensorFlow v\" + tf.__version__)\n",
    "print(\"Pandas v\" + pd.__version__)"
   ]
  },
  {
   "cell_type": "code",
   "execution_count": 4,
   "id": "319d2900",
   "metadata": {
    "execution": {
     "iopub.execute_input": "2024-06-20T01:34:08.256581Z",
     "iopub.status.busy": "2024-06-20T01:34:08.256082Z",
     "iopub.status.idle": "2024-06-20T01:34:08.314914Z",
     "shell.execute_reply": "2024-06-20T01:34:08.313339Z"
    },
    "papermill": {
     "duration": 0.067463,
     "end_time": "2024-06-20T01:34:08.318426",
     "exception": false,
     "start_time": "2024-06-20T01:34:08.250963",
     "status": "completed"
    },
    "tags": []
   },
   "outputs": [
    {
     "data": {
      "text/plain": [
       "(1460, 81)"
      ]
     },
     "execution_count": 4,
     "metadata": {},
     "output_type": "execute_result"
    }
   ],
   "source": [
    "house_prices_training_path = '../input/house-prices-advanced-regression-techniques/train.csv'\n",
    "training_df = pd.read_csv(house_prices_training_path)\n",
    "training_df.shape"
   ]
  },
  {
   "cell_type": "code",
   "execution_count": null,
   "id": "7fb29736",
   "metadata": {
    "papermill": {
     "duration": 0.003961,
     "end_time": "2024-06-20T01:34:08.326375",
     "exception": false,
     "start_time": "2024-06-20T01:34:08.322414",
     "status": "completed"
    },
    "tags": []
   },
   "outputs": [],
   "source": []
  }
 ],
 "metadata": {
  "kaggle": {
   "accelerator": "none",
   "dataSources": [
    {
     "databundleVersionId": 868283,
     "sourceId": 5407,
     "sourceType": "competition"
    }
   ],
   "dockerImageVersionId": 30732,
   "isGpuEnabled": false,
   "isInternetEnabled": false,
   "language": "python",
   "sourceType": "notebook"
  },
  "kernelspec": {
   "display_name": "Python 3",
   "language": "python",
   "name": "python3"
  },
  "language_info": {
   "codemirror_mode": {
    "name": "ipython",
    "version": 3
   },
   "file_extension": ".py",
   "mimetype": "text/x-python",
   "name": "python",
   "nbconvert_exporter": "python",
   "pygments_lexer": "ipython3",
   "version": "3.10.13"
  },
  "papermill": {
   "default_parameters": {},
   "duration": 21.139565,
   "end_time": "2024-06-20T01:34:10.652696",
   "environment_variables": {},
   "exception": null,
   "input_path": "__notebook__.ipynb",
   "output_path": "__notebook__.ipynb",
   "parameters": {},
   "start_time": "2024-06-20T01:33:49.513131",
   "version": "2.5.0"
  }
 },
 "nbformat": 4,
 "nbformat_minor": 5
}
